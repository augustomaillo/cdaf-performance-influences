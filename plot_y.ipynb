{
 "cells": [
  {
   "cell_type": "code",
   "execution_count": 39,
   "id": "3dad6898-3c7c-418f-a185-f15a3d498c6c",
   "metadata": {},
   "outputs": [],
   "source": [
    "import pandas as pd\n",
    "import matplotlib.pyplot as plt\n",
    "import matplotlib.cm as cm\n",
    "import numpy as np\n",
    "import os"
   ]
  },
  {
   "cell_type": "code",
   "execution_count": 27,
   "id": "e9c5d1fe-af08-4e63-b451-d52a94fb052d",
   "metadata": {},
   "outputs": [],
   "source": [
    "colunas_rename = {\n",
    "    \"pos_FW\": \"Pos Atacante\",\n",
    "    \"last_time_played\": \"Tempo jogado no último jogo (min)\",\n",
    "    \"last_touches\": \"Toques no último jogo\",\n",
    "    \"last_xg\": \"xG no último jogo\",\n",
    "    \"last_completed_passes_perc\": \"Percentual de passes completados no último jogo\",\n",
    "    \"player_age\": \"Idade do jogador\",\n",
    "    \"days_from_last_game\": \"Dias desde o último jogo\",\n",
    "    \"Capacity\": \"Capacidade do estádio\",\n",
    "    \"travel_distance\": \"Distância viajada para o jogo (Km)\",\n",
    "    \"pos_LW\": \"Pos Lateral Esquerdo\",\n",
    "    \"last_xag\": \"xAG no último jogo\",\n",
    "    \"tmax\": \"Temperatura máxima\",\n",
    "    \"wspd\": \"Velocidade do vento média\",\n",
    "    \"Wk\": \"Semana do campeonato\",\n",
    "    \"pos_CM\": \"Pos Meio-Campista\",\n",
    "    \"tavg\": \"Temperatura média\",\n",
    "    \"wpgt\": \"Rajada de vento máxima\",\n",
    "    \"tmin\": \"Temperatura mínima\",\n",
    "    \"pos_RW\": \"Pos Lateral Direito\",\n",
    "    \"played_at_home_False\": \"Jogar fora de casa\",\n",
    "    \"pos_AM\": \"Pos Atacante Meio-Campista\",\n",
    "    \"last_shots_on_target\": \"Chutes a gol no último jogo\",\n",
    "    \"last_goals\": \"Gols no último jogo\",\n",
    "    \"last_result_win\": \"Vitória no útimo jogo\",\n",
    "    \"prcp\": \"Precipitação (mm)\",\n",
    "    \"last_result_draw\": \"Empate no último jogo\",\n",
    "    \"last_result_lose\": \"Derrota no último jogo\",\n",
    "    \"pos_RM\": \"Pos Meio-Campista Direito\",\n",
    "    \"last_yellow_cards\": \"Cartões amarelo no último jogo\",\n",
    "    \"pos_LM\": \"Pos Meio-Campista Esquerdo\",\n",
    "    \"snow\": \"Neve\",\n",
    "    \"played_at_home_True\": \"Jogar em casa\",\n",
    "}"
   ]
  },
  {
   "cell_type": "code",
   "execution_count": 23,
   "id": "88e85836-2d8c-4794-9d60-92daaf421e41",
   "metadata": {},
   "outputs": [],
   "source": [
    "def categorical_to_one_hot_encoding(dataset, categorical_columns):\n",
    "    \"\"\"\n",
    "    Convert categorical columns to one hot encoding.\n",
    "\n",
    "    Parameters\n",
    "    ----------\n",
    "    dataset : pd.DataFrame\n",
    "        The dataset to be converted.\n",
    "    categorical_columns : list\n",
    "        The list of categorical columns.\n",
    "\n",
    "    Returns\n",
    "    -------\n",
    "    dataset_converted : pd.DataFrame\n",
    "        The converted dataset.\n",
    "    \"\"\"\n",
    "    dataset_converted = dataset.copy()\n",
    "    for column in categorical_columns:\n",
    "        dataset_converted = pd.concat([dataset_converted, pd.get_dummies(dataset_converted[column], prefix=column, dtype=float)], axis=1)\n",
    "        dataset_converted.drop(column, axis=1, inplace=True)\n",
    "\n",
    "    return dataset_converted\n",
    "\n",
    "def load_dataset(path):\n",
    "    dataset = pd.read_parquet(path)\n",
    "    dataset.drop([\"Season_End_Year\", \"Team\", \"Away\"], axis=1, inplace=True)\n",
    "    return categorical_to_one_hot_encoding(dataset, categorical_columns=[\"pos\", \"played_at_home\", \"last_result\"])"
   ]
  },
  {
   "cell_type": "code",
   "execution_count": 28,
   "id": "9578a555-f91e-4807-b49c-affc17cc08c6",
   "metadata": {},
   "outputs": [],
   "source": [
    "df = load_dataset(\"data/final_datasets/dataset_xg.parquet\")"
   ]
  },
  {
   "cell_type": "code",
   "execution_count": 35,
   "id": "c466c4aa-8dfa-4dfe-b7eb-0d25bcac9f8b",
   "metadata": {},
   "outputs": [],
   "source": [
    "def most_frequent(v):\n",
    "    most = dict()\n",
    "    for x in v:\n",
    "        if x not in most:\n",
    "            most[x] = 0\n",
    "        most[x] += 1\n",
    "    return sorted(most.items(), key = lambda x: x[1], reverse = True)"
   ]
  },
  {
   "cell_type": "code",
   "execution_count": 43,
   "id": "ccb94f2c-a976-4454-ac56-d9abcb67c705",
   "metadata": {},
   "outputs": [],
   "source": [
    "players = [(\"Roberto Firmino\", \"green\"), (\"Mohamed Salah\",\"red\")]"
   ]
  },
  {
   "cell_type": "code",
   "execution_count": 45,
   "id": "d6d69f7c-66d8-4e0e-a09f-0b19f9480253",
   "metadata": {},
   "outputs": [],
   "source": [
    "targets = {\"XG\": \"data/final_datasets/dataset_xg.parquet\",\n",
    "           \"XT\": \"data/final_datasets/dataset_xt.parquet\",\n",
    "           \"VAEP\": \"data/final_datasets/dataset_vaep.parquet\"}\n",
    "\n",
    "\n",
    "for target, path in targets.items():\n",
    "    df_og = load_dataset(path)\n",
    "    for player,c in players:\n",
    "        df = df_og[df_og[\"player\"] == player]\n",
    "        for k,v in colunas_rename.items():\n",
    "            if k not in df.columns: continue\n",
    "            plt.scatter(df[k], df[\"target\"], color=c)\n",
    "            plt.xlabel(v)\n",
    "            plt.ylabel(target)\n",
    "            plt.title(f\"Relação entre {v} e {target} - {player}\")\n",
    "            \n",
    "            os.makedirs(f\"plots/{player}/{target}\", exist_ok = True)\n",
    "            plt.savefig(f\"plots/{player}/{target}/{v}.png\")\n",
    "            plt.close()"
   ]
  }
 ],
 "metadata": {
  "kernelspec": {
   "display_name": "Python 3 (ipykernel)",
   "language": "python",
   "name": "python3"
  },
  "language_info": {
   "codemirror_mode": {
    "name": "ipython",
    "version": 3
   },
   "file_extension": ".py",
   "mimetype": "text/x-python",
   "name": "python",
   "nbconvert_exporter": "python",
   "pygments_lexer": "ipython3",
   "version": "3.10.9"
  }
 },
 "nbformat": 4,
 "nbformat_minor": 5
}
