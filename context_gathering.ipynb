{
 "cells": [
  {
   "cell_type": "code",
   "execution_count": 84,
   "id": "70134161-f721-4e88-8d66-7f37eb4e99ac",
   "metadata": {},
   "outputs": [],
   "source": [
    "from statsbombpy import sb\n",
    "import pandas as pd\n",
    "from datetime import datetime\n",
    "from meteostat import Point, Daily\n",
    "from tqdm import tqdm"
   ]
  },
  {
   "cell_type": "code",
   "execution_count": 75,
   "id": "569027fa-0fec-45c6-8f06-1ccdb9c95891",
   "metadata": {},
   "outputs": [],
   "source": [
    "stadiums = pd.read_csv(\"data/stadiums-with-GPS-coordinates.csv\")\n",
    "matches = pd.read_csv(\"data/premier-league-matches.csv\")\n",
    "\n",
    "# Renaming Columns so it is the same as in the stadiums dataset\n",
    "matches.rename(columns={\"Home\":\"Team\"}, inplace = True)\n",
    "# Trimming whitespaces in the stadium dataset\n",
    "stadiums = stadiums.applymap(lambda x: x[:-1] if type(x) == str and x[-1] == \" \" else x)\n",
    "# Contains coordinates and date for each game\n",
    "matches = matches.merge(stadiums, on=\"Team\")"
   ]
  },
  {
   "cell_type": "code",
   "execution_count": 83,
   "id": "35651aff-a29e-42e1-89a9-5c352d779316",
   "metadata": {},
   "outputs": [
    {
     "data": {
      "text/plain": [
       "Index(['tavg', 'tmin', 'tmax', 'prcp', 'snow', 'wdir', 'wspd', 'wpgt', 'pres',\n",
       "       'tsun'],\n",
       "      dtype='object')"
      ]
     },
     "execution_count": 83,
     "metadata": {},
     "output_type": "execute_result"
    }
   ],
   "source": [
    "data.columns"
   ]
  },
  {
   "cell_type": "code",
   "execution_count": 91,
   "id": "90a6ecfa-8e1d-4cf8-b1f4-4e5a82ad8cb4",
   "metadata": {},
   "outputs": [
    {
     "name": "stderr",
     "output_type": "stream",
     "text": [
      " 18%|██████▊                                | 1320/7541 [00:35<02:23, 43.34it/s]Warning: Cannot load daily/EGTI0.csv.gz from https://bulk.meteostat.net/v2/\n",
      " 66%|█████████████████████████▊             | 5003/7541 [02:03<00:36, 70.07it/s]Warning: Cannot load daily/EGSD0.csv.gz from https://bulk.meteostat.net/v2/\n",
      " 77%|██████████████████████████████▏        | 5829/7541 [02:24<00:33, 50.45it/s]Warning: Cannot load daily/EGXN0.csv.gz from https://bulk.meteostat.net/v2/\n",
      " 98%|██████████████████████████████████████ | 7364/7541 [03:02<00:02, 65.72it/s]Warning: Cannot load daily/EGFH0.csv.gz from https://bulk.meteostat.net/v2/\n",
      "100%|███████████████████████████████████████| 7541/7541 [03:06<00:00, 40.34it/s]\n"
     ]
    }
   ],
   "source": [
    "# Now we're gonna use the meteostat library to retrieve weather data for each match\n",
    "\n",
    "output_file = \"data/weather.csv\"\n",
    "columns = [\n",
    "    'stadium', \n",
    "    'date', \n",
    "    'tavg', \n",
    "    'tmin', \n",
    "    'tmax', \n",
    "    'prcp', \n",
    "    'snow', \n",
    "    'wdir', \n",
    "    'wspd', \n",
    "    'wpgt', \n",
    "    'pres',\n",
    "    'tsun']\n",
    "\n",
    "# Creating header\n",
    "with open(output_file, 'w') as f:\n",
    "    f.write(columns[0])\n",
    "    for col in columns[1:]:\n",
    "        f.write(\",\")\n",
    "        f.write(col)\n",
    "    f.write(\"\\n\")\n",
    "    \n",
    "for i in tqdm(range(len(matches))):\n",
    "    stadium = matches[\"Stadium\"][i]\n",
    "    latitude = float(matches[\"Latitude\"][i])\n",
    "    longitude = float(matches[\"Longitude\"][i])\n",
    "    date_str = matches[\"Date\"][i]\n",
    "    year, month, day = map(int, date_str.split(\"-\"))\n",
    "    \n",
    "    # API Call\n",
    "    start = datetime(year, month, day)\n",
    "    end   = datetime(year, month, day)\n",
    "    location = Point(latitude, longitude, 70)\n",
    "    data = Daily(location, start, end)\n",
    "    data = data.fetch()\n",
    "    \n",
    "    # Data not found\n",
    "    if data.empty:\n",
    "        continue\n",
    "    # Writing data\n",
    "    with open(output_file, 'a') as f:\n",
    "        f.write(stadium)\n",
    "        f.write(\",\")\n",
    "        f.write(date_str)\n",
    "        for col in columns[2:]:\n",
    "            f.write(\",\")\n",
    "            f.write(str(data[col][0]))\n",
    "        f.write(\"\\n\")"
   ]
  },
  {
   "cell_type": "code",
   "execution_count": 98,
   "id": "49220ff7-1d05-4979-9f22-1e467b673e24",
   "metadata": {},
   "outputs": [],
   "source": [
    "weather_df = pd.read_csv(\"data/weather.csv\")\n",
    "matches_with_weather = matches.merge(weather_df, left_on = [\"Stadium\",\"Date\"], right_on = [\"stadium\",\"date\"], copy=True)"
   ]
  },
  {
   "cell_type": "code",
   "execution_count": null,
   "id": "d72bcc4b-2edd-44d2-b6dc-a0b1f1885f80",
   "metadata": {},
   "outputs": [],
   "source": [
    "matches_with_weather."
   ]
  }
 ],
 "metadata": {
  "kernelspec": {
   "display_name": "Python 3 (ipykernel)",
   "language": "python",
   "name": "python3"
  },
  "language_info": {
   "codemirror_mode": {
    "name": "ipython",
    "version": 3
   },
   "file_extension": ".py",
   "mimetype": "text/x-python",
   "name": "python",
   "nbconvert_exporter": "python",
   "pygments_lexer": "ipython3",
   "version": "3.9.7"
  }
 },
 "nbformat": 4,
 "nbformat_minor": 5
}
